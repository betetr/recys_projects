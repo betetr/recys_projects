{
 "cells": [
  {
   "cell_type": "code",
   "execution_count": null,
   "metadata": {
    "collapsed": true
   },
   "outputs": [],
   "source": [
    "# -*- coding: utf-8 -*-\n",
    "import pandas as pd\n",
    "import numpy as np\n",
    "from datetime import datetime\n",
    "import collections"
   ]
  },
  {
   "cell_type": "code",
   "execution_count": null,
   "metadata": {
    "collapsed": true
   },
   "outputs": [],
   "source": [
    "def read_data(path):\n",
    "    df = pd.read_csv(path)\n",
    "    del df[\"Unnamed: 0\"]\n",
    "    df['time'] = pd.to_datetime(df['time'])\n",
    "    return df"
   ]
  },
  {
   "cell_type": "code",
   "execution_count": null,
   "metadata": {
    "collapsed": true
   },
   "outputs": [],
   "source": [
    "def get_one(x):\n",
    "    y=0\n",
    "    if x[4]!=0:\n",
    "        y=2\n",
    "    elif x[1]!=0:\n",
    "        y=1\n",
    "    return y"
   ]
  },
  {
   "cell_type": "code",
   "execution_count": null,
   "metadata": {
    "collapsed": true
   },
   "outputs": [],
   "source": [
    "class recys_process(object):\n",
    "    def __init__(self,df):\n",
    "        self.df = df\n",
    "        \n",
    "    def time_per(self,day):\n",
    "        time_per = 0\n",
    "        if day < 13:\n",
    "            time_per = self.df[(df.time >= datetime(2014,11,day+17)) & (df.time < datetime(2014,11,day+18))]\n",
    "        if day == 13:\n",
    "            time_per = self.df[(df.time >= datetime(2014,11,day+17)) & (df.time < datetime(2014,12,1))]\n",
    "        if day > 13:\n",
    "            time_per = self.df[(df.time >= datetime(2014,12,day-13)) & (df.time < datetime(2014,12,day-12))]\n",
    "        return time_per\n",
    "    \n",
    "    def exe_group(self,days,keys):\n",
    "        df = self.time_per(days)\n",
    "        df = df.groupby(keys).count().unstack().fillna(0).astype(int).item_id\n",
    "        return df \n",
    "    \n",
    "    def user_detail_counts(self,day=0,*group_keys):\n",
    "        if group_keys:\n",
    "            keys = list(group_keys)\n",
    "        keys = [df.user_id,df.behavior_type]\n",
    "        basic_days = 0\n",
    "        if day==0:\n",
    "            basic_days = []\n",
    "            for i in range(1,31,1):\n",
    "                basic_days.append(self.exe_group(i,keys).apply(get_one,axis=1))\n",
    "            basic_days = pd.concat(basic_days,axis=1).fillna(0).astype(int)\n",
    "        else:\n",
    "            basic_days = self.exe_group(day,keys).apply(get_one,axis=1)\n",
    "        return basic_days\n",
    "        "
   ]
  },
  {
   "cell_type": "code",
   "execution_count": null,
   "metadata": {
    "collapsed": true
   },
   "outputs": [],
   "source": [
    "if __name__==\"__main__\":\n",
    "    path = \"E:\\\\projects\\\\recys_projects\\\\dataset\\\\0_999_user_info.csv\"\n",
    "#     path = \"/home/xuyayuan/recys_projects/dataset/0_999_user_info.csv\"\n",
    "    df = read_data(path)\n",
    "    group_keys = [df.user_id,df.item_category,df.item_id,df.behavior_type]"
   ]
  },
  {
   "cell_type": "code",
   "execution_count": null,
   "metadata": {},
   "outputs": [],
   "source": [
    "recs = recys_process(df)"
   ]
  },
  {
   "cell_type": "code",
   "execution_count": null,
   "metadata": {},
   "outputs": [],
   "source": [
    "recs.user_detail_counts().ix[:,23:27].head(10)"
   ]
  },
  {
   "cell_type": "code",
   "execution_count": null,
   "metadata": {},
   "outputs": [],
   "source": [
    "recs.exe_group(16,group_keys).head(10)"
   ]
  }
 ],
 "metadata": {
  "kernelspec": {
   "display_name": "Python 3",
   "language": "python",
   "name": "python3"
  },
  "language_info": {
   "codemirror_mode": {
    "name": "ipython",
    "version": 3
   },
   "file_extension": ".py",
   "mimetype": "text/x-python",
   "name": "python",
   "nbconvert_exporter": "python",
   "pygments_lexer": "ipython3",
   "version": "3.6.3"
  }
 },
 "nbformat": 4,
 "nbformat_minor": 2
}
