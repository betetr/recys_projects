{
 "cells": [
  {
   "cell_type": "code",
   "execution_count": null,
   "metadata": {
    "collapsed": true
   },
   "outputs": [],
   "source": [
    "# -*- coding: utf-8 -*-\n",
    "import pandas as pd\n",
    "import numpy as np\n",
    "from datetime import datetime\n",
    "import json "
   ]
  },
  {
   "cell_type": "code",
   "execution_count": null,
   "metadata": {
    "collapsed": true
   },
   "outputs": [],
   "source": [
    "def read_data(path):\n",
    "    df = pd.read_csv(path)\n",
    "    del df[\"Unnamed: 0\"]\n",
    "    df['time'] = pd.to_datetime(df['time'])\n",
    "    return df"
   ]
  },
  {
   "cell_type": "code",
   "execution_count": null,
   "metadata": {
    "collapsed": true
   },
   "outputs": [],
   "source": [
    "def get_one(x):\n",
    "    y=0\n",
    "    if x[4]!=0:\n",
    "        y=2\n",
    "    elif x[1]!=0:\n",
    "        y=1\n",
    "    return y"
   ]
  },
  {
   "cell_type": "code",
   "execution_count": null,
   "metadata": {
    "collapsed": true
   },
   "outputs": [],
   "source": [
    "class recys_process(object):\n",
    "    def __init__(self,df):\n",
    "        self.df = df\n",
    "        self.unique_user_id = df.drop_duplicates(\"user_id\")[[\"user_id\",\"item_id\"]]\n",
    "        self.unique_category = df.drop_duplicates(\"item_category\")[[\"item_category\",\"item_id\"]]\n",
    "        self.unique_item = df.drop_duplicates(\"item_id\")[[\"item_category\",\"item_id\"]]\n",
    "    \n",
    "    def time_per(self,day,per_d = 1,h1=0,h2=0):\n",
    "        time_per = 0\n",
    "        if per_d == 0:\n",
    "            if day <= 13:\n",
    "                time_per = self.df[(df.time >= datetime(2014,11,day+17,h1)) & (df.time < datetime(2014,11,day + per_d + 17,h2))]\n",
    "            else:\n",
    "                time_per = self.df[(df.time >= datetime(2014,12,day-13,h1)) & (df.time < datetime(2014,12,day + per_d -13,h2))]\n",
    "        else:      \n",
    "            if day < 13 :\n",
    "                if day + per_d + 17 <= 30:\n",
    "                    time_per = self.df[(df.time >= datetime(2014,11,day+17,h1)) & (df.time < datetime(2014,11,day + per_d + 17,h2))]\n",
    "                else:\n",
    "                    time_per = self.df[(df.time >= datetime(2014,11,day+17,h1)) & (df.time < datetime(2014,12,day + per_d + 17 - 30,h2))]\n",
    "            if day == 13:\n",
    "                    time_per = self.df[(df.time >= datetime(2014,11,day+17,h1)) & (df.time < datetime(2014,12,per_d,h2))]\n",
    "            if day > 13:\n",
    "                time_per = self.df[(df.time >= datetime(2014,12,day-13,h1)) & (df.time < datetime(2014,12,day + per_d -13,h2))]\n",
    "        return time_per\n",
    "    \n",
    "    def exe_group(self,keys,days,*args):\n",
    "        df = self.time_per(days,*args)\n",
    "        df = df.groupby(keys).count().unstack().fillna(0).astype(int).item_id\n",
    "        return df \n",
    "    \n",
    "    def user_basic(self,keys,days,*args):\n",
    "        num_category = self.time_per(days,*args).drop_duplicates([\"user_id\",\"item_category\"]).groupby(\"user_id\").count()\n",
    "        num_item = self.time_per(days,*args).drop_duplicates([\"user_id\",\"item_id\"]).groupby(\"user_id\").count()\n",
    "        user_basic = self.exe_group(keys,days,*args)\n",
    "        user_basic.columns = ['click','collect','cart','buy']\n",
    "        user_basic.insert(0,'user_id',user_basic.index)\n",
    "        user_basic.insert(1,'num_category',num_category.item_category)\n",
    "        user_basic.insert(2,'num_item',num_item.item_id)\n",
    "        user_basic = pd.merge(self.unique_user_id,user_basic,how=\"outer\",on=\"user_id\").drop(\"item_id\",axis=1).fillna(0).astype(int)\n",
    "        return user_basic\n",
    "    \n",
    "    def category_basic(self,keys,days,*args):\n",
    "        num_users = self.time_per(days,*args).drop_duplicates([\"user_id\",\"item_category\"]).groupby(\"item_category\").count()\n",
    "        num_items = self.time_per(days,*args).drop_duplicates([\"item_id\",\"item_category\"]).groupby(\"item_category\").count()\n",
    "        category_basic = self.exe_group(keys,days,*args)\n",
    "        category_basic.columns = ['click','collect','cart','buy']\n",
    "        category_basic.insert(0,\"item_category\",category_basic.index)\n",
    "        category_basic.insert(1,\"num_users\",num_users.user_id)\n",
    "        category_basic.insert(2,\"num_items\",num_items.item_id)\n",
    "        category_basic = pd.merge(self.unique_category,category_basic,how=\"outer\",on=\"item_category\").drop(\"item_id\",axis=1).fillna(0).astype(int)\n",
    "        return category_basic\n",
    "    \n",
    "    def item_basic(self,keys,days,*args):\n",
    "        num_users = self.time_per(days,*args).drop_duplicates([\"user_id\",\"item_id\"]).groupby(\"item_id\").count()\n",
    "        item_basic = self.exe_group(keys,days,*args)\n",
    "        item_basic.columns = ['click','collect','cart','buy']\n",
    "        item_basic.insert(0,\"item_id\",item_basic.index)\n",
    "        item_basic.insert(1,\"num_users\",num_users.user_id)\n",
    "        item_basic = pd.merge(self.unique_item,item_basic,how=\"outer\",on=\"item_id\").fillna(0).astype(int)\n",
    "        return item_basic\n",
    "    \n",
    "    def user_30days(self,day=0,*group_keys):\n",
    "        if group_keys:\n",
    "            keys = list(group_keys)\n",
    "        keys = [df.user_id,df.behavior_type]\n",
    "        basic_days = 0\n",
    "        if day==0:\n",
    "            basic_days = []\n",
    "            for i in range(1,31,1):\n",
    "                basic_days.append(self.exe_group(keys,i).apply(get_one,axis=1))\n",
    "            basic_days = pd.concat(basic_days,axis=1).fillna(0).astype(int)\n",
    "        else:\n",
    "            basic_days = self.exe_group(keys,day).apply(get_one,axis=1)\n",
    "        return basic_days\n",
    "        "
   ]
  },
  {
   "cell_type": "code",
   "execution_count": null,
   "metadata": {
    "collapsed": true
   },
   "outputs": [],
   "source": [
    "# test cmds\n",
    "# recs.user_30days().ix[:,23:27].head(10)\n",
    "\n",
    "# recs.exe_group(group_keys,3,2).ix[263670]\n",
    "\n",
    "# df_3 = recs.time_per(3,2)\n",
    "# df_3[df_3.user_id==263670]"
   ]
  },
  {
   "cell_type": "code",
   "execution_count": null,
   "metadata": {
    "collapsed": true
   },
   "outputs": [],
   "source": [
    "if __name__==\"__main__\":\n",
    "    path = \"E:\\\\projects\\\\recys_projects\\\\dataset\\\\0_999_user_info.csv\"\n",
    "#     path = \"/home/xuyayuan/recys_projects/dataset/0_999_user_info.csv\"\n",
    "    df = read_data(path)\n",
    "    group_keys = [df.user_id,df.item_category,df.item_id,df.behavior_type]\n",
    "    group_keys_1 = [df.user_id,df.behavior_type]\n",
    "    group_keys_2 = [df.user_id,df.item_category]\n",
    "    group_keys_3 = [df.item_category,df.behavior_type]\n",
    "    group_keys_4 = [df.item_id,df.behavior_type]\n",
    "    recs = recys_process(df)\n",
    "    df_days = recs.user_30days()"
   ]
  },
  {
   "cell_type": "code",
   "execution_count": null,
   "metadata": {},
   "outputs": [],
   "source": [
    "user_basic = recs.user_basic(group_keys_1,1,28)\n",
    "category_basic = recs.category_basic(group_keys_3,1,28)\n",
    "item_basic = recs.item_basic(group_keys_4,1,28)"
   ]
  },
  {
   "cell_type": "code",
   "execution_count": null,
   "metadata": {},
   "outputs": [],
   "source": [
    "category_basic"
   ]
  },
  {
   "cell_type": "code",
   "execution_count": null,
   "metadata": {},
   "outputs": [],
   "source": [
    "user_basic"
   ]
  },
  {
   "cell_type": "code",
   "execution_count": null,
   "metadata": {},
   "outputs": [],
   "source": [
    "item_basic"
   ]
  }
 ],
 "metadata": {
  "kernelspec": {
   "display_name": "Python 3",
   "language": "python",
   "name": "python3"
  },
  "language_info": {
   "codemirror_mode": {
    "name": "ipython",
    "version": 3
   },
   "file_extension": ".py",
   "mimetype": "text/x-python",
   "name": "python",
   "nbconvert_exporter": "python",
   "pygments_lexer": "ipython3",
   "version": "3.6.3"
  }
 },
 "nbformat": 4,
 "nbformat_minor": 2
}
