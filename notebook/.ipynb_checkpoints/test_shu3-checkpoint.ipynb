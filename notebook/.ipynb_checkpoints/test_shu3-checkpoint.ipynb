{
 "cells": [
  {
   "cell_type": "code",
   "execution_count": null,
   "metadata": {},
   "outputs": [],
   "source": [
    "# -*- coding: utf-8 -*-\n",
    "import pandas as pd\n",
    "import numpy as np\n",
    "from datetime import datetime"
   ]
  },
  {
   "cell_type": "code",
   "execution_count": null,
   "metadata": {},
   "outputs": [],
   "source": [
    "def read_data(path):\n",
    "    df = pd.read_csv(path)\n",
    "    del df[\"Unnamed: 0\"]\n",
    "    df['time'] = pd.to_datetime(df['time'])\n",
    "    return df"
   ]
  },
  {
   "cell_type": "code",
   "execution_count": null,
   "metadata": {},
   "outputs": [],
   "source": [
    "def get_one(x):\n",
    "    y=0\n",
    "    if x[4]!=0:\n",
    "        y=2\n",
    "    elif x[1]!=0:\n",
    "        y=1\n",
    "    return y"
   ]
  },
  {
   "cell_type": "code",
   "execution_count": null,
   "metadata": {},
   "outputs": [],
   "source": [
    "class recys_process(object):\n",
    "    def __init__(self,df):\n",
    "        self.df = df\n",
    "    \n",
    "    def time_per(self,day,per_d = 1,h1=0,h2=0):\n",
    "        time_per = 0\n",
    "        if per_d == 0:\n",
    "            if day <= 13:\n",
    "                time_per = self.df[(df.time >= datetime(2014,11,day+17,h1)) & (df.time < datetime(2014,11,day + per_d + 17,h2))]\n",
    "            else:\n",
    "                time_per = self.df[(df.time >= datetime(2014,12,day-13,h1)) & (df.time < datetime(2014,12,day + per_d -13,h2))]\n",
    "        else:      \n",
    "            if day < 13 :\n",
    "                if day + per_d + 17 <= 30:\n",
    "                    time_per = self.df[(df.time >= datetime(2014,11,day+17,h1)) & (df.time < datetime(2014,11,day + per_d + 17,h2))]\n",
    "                else:\n",
    "                    time_per = self.df[(df.time >= datetime(2014,11,day+17,h1)) & (df.time < datetime(2014,12,day + per_d + 17 - 30,h2))]\n",
    "            if day == 13:\n",
    "                    time_per = self.df[(df.time >= datetime(2014,11,day+17,h1)) & (df.time < datetime(2014,12,per_d,h2))]\n",
    "            if day > 13:\n",
    "                time_per = self.df[(df.time >= datetime(2014,12,day-13,h1)) & (df.time < datetime(2014,12,day + per_d -13,h2))]\n",
    "        return time_per\n",
    "    \n",
    "    def exe_group(self,keys,days,*args):\n",
    "        df = self.time_per(days,*args)\n",
    "        df = df.groupby(keys).count().unstack().fillna(0).astype(int).item_id\n",
    "        return df \n",
    "    \n",
    "    def user_detail_counts(self,day=0,*group_keys):\n",
    "        if group_keys:\n",
    "            keys = list(group_keys)\n",
    "        keys = [df.user_id,df.behavior_type]\n",
    "        basic_days = 0\n",
    "        if day==0:\n",
    "            basic_days = []\n",
    "            for i in range(1,31,1):\n",
    "                basic_days.append(self.exe_group(keys,i).apply(get_one,axis=1))\n",
    "            basic_days = pd.concat(basic_days,axis=1).fillna(0).astype(int)\n",
    "        else:\n",
    "            basic_days = self.exe_group(keys,day).apply(get_one,axis=1)\n",
    "        return basic_days\n",
    "        "
   ]
  },
  {
   "cell_type": "code",
   "execution_count": null,
   "metadata": {},
   "outputs": [],
   "source": [
    "if __name__==\"__main__\":\n",
    "#     path = \"E:\\\\projects\\\\recys_projects\\\\dataset\\\\0_999_user_info.csv\"\n",
    "    path = \"/home/xuyayuan/recys_projects/dataset/0_999_user_info.csv\"\n",
    "    df = read_data(path)\n",
    "    group_keys = [df.user_id,df.item_category,df.item_id,df.behavior_type]\n",
    "    recs = recys_process(df)"
   ]
  },
  {
   "cell_type": "code",
   "execution_count": null,
   "metadata": {},
   "outputs": [],
   "source": [
    "# recs.user_detail_counts().ix[:,23:27].head(10)"
   ]
  },
  {
   "cell_type": "code",
   "execution_count": null,
   "metadata": {
    "scrolled": false
   },
   "outputs": [],
   "source": [
    "recs.exe_group(group_keys,3,2).ix[263670]"
   ]
  },
  {
   "cell_type": "code",
   "execution_count": null,
   "metadata": {},
   "outputs": [],
   "source": [
    "df_3 = recs.time_per(3,2)\n",
    "df_3[df_3.user_id==263670]"
   ]
  }
 ],
 "metadata": {
  "kernelspec": {
   "display_name": "Python 3",
   "language": "python",
   "name": "python3"
  },
  "language_info": {
   "codemirror_mode": {
    "name": "ipython",
    "version": 3
   },
   "file_extension": ".py",
   "mimetype": "text/x-python",
   "name": "python",
   "nbconvert_exporter": "python",
   "pygments_lexer": "ipython3",
   "version": "3.6.1"
  }
 },
 "nbformat": 4,
 "nbformat_minor": 2
}
