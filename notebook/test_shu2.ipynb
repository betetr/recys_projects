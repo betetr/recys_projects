{
 "cells": [
  {
   "cell_type": "code",
   "execution_count": null,
   "metadata": {},
   "outputs": [],
   "source": [
    "# -*- coding: utf-8 -*-\n",
    "import pandas as pd\n",
    "import numpy as np\n",
    "from datetime import datetime\n",
    "import collections"
   ]
  },
  {
   "cell_type": "code",
   "execution_count": null,
   "metadata": {},
   "outputs": [],
   "source": [
    "def read_data(path):\n",
    "    df = pd.read_csv(path)\n",
    "    del df[\"Unnamed: 0\"]\n",
    "    df['time'] = pd.to_datetime(df['time'])\n",
    "    return df"
   ]
  },
  {
   "cell_type": "code",
   "execution_count": null,
   "metadata": {},
   "outputs": [],
   "source": [
    "def user_detail_counts(df,day):\n",
    "#     user_id = df['user_id'].unique().tolist()\n",
    "    if day < 13:\n",
    "        new_df = df[df['time'] >= datetime(2014,11,day+17)][df['time'] < datetime(2014,11,day+18)].groupby([df['user_id'],df[\"behavior_type\"]]).count().unstack()\n",
    "        return new_df\n",
    "    if day == 13:\n",
    "        new_df = df[df['time'] >= datetime(2014,11,day+17)][df['time'] < datetime(2014,12,1)].groupby([df['user_id'],df[\"behavior_type\"]]).count().unstack()\n",
    "        return new_df\n",
    "    new_df = df[df['time'] >= datetime(2014,12,day-13)][df['time'] < datetime(2014,12,day-12)].groupby([df['user_id'],df[\"behavior_type\"]]).count().unstack()\n",
    "    return new_df"
   ]
  },
  {
   "cell_type": "code",
   "execution_count": null,
   "metadata": {},
   "outputs": [],
   "source": [
    "def user_detail_30days(df):\n",
    "    user_id = df['user_id'].unique().tolist()\n",
    "    basic_days = collections.OrderedDict()\n",
    "    for i in range(1,31,1):\n",
    "        key = 'day' + str(i)\n",
    "        basic_days[key] = df_dt_to_list(user_detail_counts(df,i),user_id)\n",
    "    basic_days=pd.DataFrame(basic_days, index = user_id)\n",
    "    return basic_days"
   ]
  },
  {
   "cell_type": "code",
   "execution_count": null,
   "metadata": {},
   "outputs": [],
   "source": [
    "def df_dt_to_list(new_df,user_id):\n",
    "#     new_df['item_id']\n",
    "    new_list = []\n",
    "    for uid in user_id:\n",
    "        print(uid)\n",
    "        arry = np.array(new_df.ix[[uid],'item_id'])\n",
    "        arry[np.isnan(arry)]=0\n",
    "        print(uid,arry.astype(np.int).tolist())\n",
    "        if arry.astype(np.int).tolist()[0][3]!=0:\n",
    "            new_list.append(2)\n",
    "        elif arry.astype(np.int).tolist()[0][0]!=0:\n",
    "            new_list.append(1)\n",
    "        else :\n",
    "            new_list.append(0)\n",
    "    #     new_list = arry.astype(np.int).tolist()\n",
    "    return new_list"
   ]
  },
  {
   "cell_type": "code",
   "execution_count": null,
   "metadata": {},
   "outputs": [],
   "source": [
    "def df_to_list(new_df,user_id):\n",
    "#     new_df['item_id']\n",
    "    arry = np.array(new_df.ix[user_id,'item_id'])\n",
    "    arry[np.isnan(arry)]=0\n",
    "    new_list = arry.astype(np.int).tolist()\n",
    "    return new_list"
   ]
  },
  {
   "cell_type": "code",
   "execution_count": null,
   "metadata": {},
   "outputs": [],
   "source": [
    "def get_one(x):\n",
    "    y=0\n",
    "    if x[4]!=0:\n",
    "        y=2\n",
    "    elif x[1]!=0:\n",
    "        y=1\n",
    "    return y"
   ]
  },
  {
   "cell_type": "code",
   "execution_count": null,
   "metadata": {},
   "outputs": [],
   "source": [
    "# def df_dt_to_list(new_df,user_id):\n",
    "# #     new_df['item_id']\n",
    "#     arry = np.array(new_df.ix[user_id,'item_id'])\n",
    "#     arry[np.isnan(arry)]=0\n",
    "# #     print(uid,arry.astype(np.int).tolist())\n",
    "#     if arry.astype(np.int).tolist()[0][3]!=0:\n",
    "#         new_list=[2]\n",
    "#     elif arry.astype(np.int).tolist()[0][0]!=0:\n",
    "#         new_list=[1]\n",
    "#     else :\n",
    "#         new_list=[0]\n",
    "# #     new_list = arry.astype(np.int).tolist()\n",
    "#     return new_list"
   ]
  },
  {
   "cell_type": "code",
   "execution_count": null,
   "metadata": {},
   "outputs": [],
   "source": [
    "def detail_info(df,user_id):\n",
    "    new_df = df.groupby([df['user_id'],df[\"behavior_type\"]]).count().unstack()\n",
    "    new_list = df_to_list(new_df,user_id)[0]\n",
    "    print(user_id,new_list)\n",
    "    return new_list"
   ]
  },
  {
   "cell_type": "code",
   "execution_count": null,
   "metadata": {},
   "outputs": [],
   "source": [
    "if __name__==\"__main__\":\n",
    "#     path = \"E:\\\\projects\\\\recys_projects\\\\dataset\\\\0_999_user_info.csv\"\n",
    "    path = \"/home/xuyayuan/recys_projects/dataset/0_999_user_info.csv\"\n",
    "    df = read_data(path)"
   ]
  },
  {
   "cell_type": "code",
   "execution_count": null,
   "metadata": {},
   "outputs": [],
   "source": [
    "detail_basic_days = user_detail_30days(df)\n",
    "\n",
    "detail_basic_days.head(20)\n",
    "\n",
    "user_detail_counts(df,25).ix[764564,'item_id']\n",
    "\n",
    "user_detail_counts(df,25)['item_id']\n",
    "\n",
    "df_dt_to_list(user_detail_counts(df,21),[98607707])"
   ]
  },
  {
   "cell_type": "code",
   "execution_count": null,
   "metadata": {
    "scrolled": true
   },
   "outputs": [],
   "source": [
    "dtest = user_detail_counts(df,25)['item_id'].ix[df['user_id'].unique().tolist()].fillna(0).astype(int)"
   ]
  },
  {
   "cell_type": "code",
   "execution_count": null,
   "metadata": {},
   "outputs": [],
   "source": [
    "dtest.head(20)"
   ]
  },
  {
   "cell_type": "code",
   "execution_count": null,
   "metadata": {},
   "outputs": [],
   "source": [
    "dtest.apply(get_one,axis=1)"
   ]
  },
  {
   "cell_type": "code",
   "execution_count": null,
   "metadata": {},
   "outputs": [],
   "source": []
  }
 ],
 "metadata": {
  "kernelspec": {
   "display_name": "Python 3",
   "language": "python",
   "name": "python3"
  },
  "language_info": {
   "codemirror_mode": {
    "name": "ipython",
    "version": 3
   },
   "file_extension": ".py",
   "mimetype": "text/x-python",
   "name": "python",
   "nbconvert_exporter": "python",
   "pygments_lexer": "ipython3",
   "version": "3.6.1"
  }
 },
 "nbformat": 4,
 "nbformat_minor": 2
}
