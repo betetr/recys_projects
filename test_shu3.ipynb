{
 "cells": [
  {
   "cell_type": "code",
   "execution_count": null,
   "metadata": {},
   "outputs": [],
   "source": [
    "# -*- coding: utf-8 -*-\n",
    "import pandas as pd\n",
    "import numpy as np\n",
    "from datetime import datetime\n",
    "import collections"
   ]
  },
  {
   "cell_type": "code",
   "execution_count": null,
   "metadata": {},
   "outputs": [],
   "source": [
    "def read_data(path):\n",
    "    df = pd.read_csv(path)\n",
    "    del df[\"Unnamed: 0\"]\n",
    "    df['time'] = pd.to_datetime(df['time'])\n",
    "    return df"
   ]
  },
  {
   "cell_type": "code",
   "execution_count": null,
   "metadata": {},
   "outputs": [],
   "source": [
    "def user_detail_counts(df,day):\n",
    "    if day < 13:\n",
    "        new_df = df[df['time'] >= datetime(2014,11,day+17)][df['time'] < datetime(2014,11,day+18)].groupby([df['user_id'],df[\"behavior_type\"]]).count().unstack()\n",
    "        return new_df\n",
    "    if day == 13:\n",
    "        new_df = df[df['time'] >= datetime(2014,11,day+17)][df['time'] < datetime(2014,12,1)].groupby([df['user_id'],df[\"behavior_type\"]]).count().unstack()\n",
    "        return new_df\n",
    "    new_df = df[df['time'] >= datetime(2014,12,day-13)][df['time'] < datetime(2014,12,day-12)].groupby([df['user_id'],df[\"behavior_type\"]]).count().unstack()\n",
    "    return new_df"
   ]
  },
  {
   "cell_type": "code",
   "execution_count": null,
   "metadata": {},
   "outputs": [],
   "source": [
    "def get_one(x):\n",
    "    y=0\n",
    "    if x[4]!=0:\n",
    "        y=2\n",
    "    elif x[1]!=0:\n",
    "        y=1\n",
    "    return y"
   ]
  },
  {
   "cell_type": "code",
   "execution_count": null,
   "metadata": {},
   "outputs": [],
   "source": [
    "def user_30days(df):\n",
    "    user_id = df['user_id'].unique().tolist()\n",
    "    basic_days = collections.OrderedDict()\n",
    "    for i in range(1,31,1):\n",
    "        key = 'day' + str(i)\n",
    "        basic_days[key] = user_detail_counts(df,i)['item_id'].ix[user_id].fillna(0).astype(int).apply(get_one,axis=1)\n",
    "    basic_days=pd.DataFrame(basic_days, index = user_id)\n",
    "    return basic_days"
   ]
  },
  {
   "cell_type": "code",
   "execution_count": null,
   "metadata": {},
   "outputs": [],
   "source": [
    "if __name__==\"__main__\":\n",
    "#     path = \"E:\\\\projects\\\\recys_projects\\\\dataset\\\\0_999_user_info.csv\"\n",
    "    path = \"/home/xuyayuan/recys_projects/dataset/0_999_user_info.csv\"\n",
    "    df = read_data(path)"
   ]
  },
  {
   "cell_type": "code",
   "execution_count": null,
   "metadata": {},
   "outputs": [],
   "source": [
    "detail_days = user_30days(df)"
   ]
  },
  {
   "cell_type": "code",
   "execution_count": null,
   "metadata": {},
   "outputs": [],
   "source": [
    "detail_days.head(20)"
   ]
  },
  {
   "cell_type": "code",
   "execution_count": null,
   "metadata": {},
   "outputs": [],
   "source": [
    "detail_days.ix[98047837][detail_days.ix[98047837]==2].index"
   ]
  },
  {
   "cell_type": "code",
   "execution_count": null,
   "metadata": {},
   "outputs": [],
   "source": [
    "detail_days.ix[98047837]"
   ]
  },
  {
   "cell_type": "code",
   "execution_count": null,
   "metadata": {},
   "outputs": [],
   "source": [
    "f = lambda x: x==2\n",
    "\n",
    "detail_days.apply(f,axis=1)"
   ]
  }
 ],
 "metadata": {
  "kernelspec": {
   "display_name": "Python 3",
   "language": "python",
   "name": "python3"
  },
  "language_info": {
   "codemirror_mode": {
    "name": "ipython",
    "version": 3
   },
   "file_extension": ".py",
   "mimetype": "text/x-python",
   "name": "python",
   "nbconvert_exporter": "python",
   "pygments_lexer": "ipython3",
   "version": "3.6.1"
  }
 },
 "nbformat": 4,
 "nbformat_minor": 2
}
