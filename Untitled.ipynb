{
 "cells": [
  {
   "cell_type": "code",
   "execution_count": null,
   "metadata": {},
   "outputs": [],
   "source": [
    "# -*- coding: utf-8 -*-\n",
    "import pandas as pd\n",
    "import numpy as np\n",
    "from datetime import datetime\n",
    "\n",
    "def get_user_counts(df,day):\n",
    "    if day < 13:\n",
    "        new_df = df[df['time'] >= datetime(2014,11,day+17)][df['time'] < datetime(2014,11,day+18)].groupby('user_id').count()\n",
    "        return new_df\n",
    "    if day == 13:\n",
    "        new_df = df[df['time'] >= datetime(2014,11,day+17)][df['time'] < datetime(2014,12,1)].groupby('user_id').count()\n",
    "        return new_df\n",
    "    new_df = df[df['time'] >= datetime(2014,12,day-13)][df['time'] < datetime(2014,12,day-12)].groupby('user_id').count()\n",
    "    return new_df\n",
    "\n",
    "if __name__==\"__main__\":\n",
    "    # df = pd.read_csv(\"E:\\\\recys_projects\\\\dataset\\\\0_999_user_info.csv\")\n",
    "    df = pd.read_csv(\"/home/xuyayuan/recys_projects/dataset/0_999_user_info.csv\")\n",
    "    del df[\"Unnamed: 0\"]\n",
    "\n",
    "    new_df = get_user_counts(df,10)\n",
    "    print(new_df.head())\n",
    "\n",
    "#     new_df.index[:6]\n",
    "\n",
    "    p=new_df.ix[[134658],'item_id']\n",
    "    p = np.array(p).tolist()\n",
    "    print(p)"
   ]
  },
  {
   "cell_type": "code",
   "execution_count": null,
   "metadata": {},
   "outputs": [],
   "source": []
  }
 ],
 "metadata": {
  "kernelspec": {
   "display_name": "Python 3",
   "language": "python",
   "name": "python3"
  },
  "language_info": {
   "codemirror_mode": {
    "name": "ipython",
    "version": 3
   },
   "file_extension": ".py",
   "mimetype": "text/x-python",
   "name": "python",
   "nbconvert_exporter": "python",
   "pygments_lexer": "ipython3",
   "version": "3.6.1"
  }
 },
 "nbformat": 4,
 "nbformat_minor": 2
}
