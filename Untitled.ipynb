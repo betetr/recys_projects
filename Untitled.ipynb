{
 "cells": [
  {
   "cell_type": "code",
   "execution_count": null,
   "metadata": {},
   "outputs": [],
   "source": [
    "# -*- coding: utf-8 -*-\n",
    "import pandas as pd\n",
    "import numpy as np\n",
    "from datetime import datetime\n",
    "import collections\n",
    "\n",
    "def get_user_counts(df,day):\n",
    "    user_id_set = df['user_id'].unique().tolist()\n",
    "    if day < 13:\n",
    "        new_df = df[df['time'] >= datetime(2014,11,day+17)][df['time'] < datetime(2014,11,day+18)].groupby('user_id').count()\n",
    "        new_list = np.array(new_df.ix[user_id_set,'item_id']).tolist()\n",
    "        return new_list\n",
    "    if day == 13:\n",
    "        new_df = df[df['time'] >= datetime(2014,11,day+17)][df['time'] < datetime(2014,12,1)].groupby('user_id').count()\n",
    "        new_list = np.array(new_df.ix[user_id_set,'item_id']).tolist()\n",
    "        return new_list\n",
    "    new_df = df[df['time'] >= datetime(2014,12,day-13)][df['time'] < datetime(2014,12,day-12)].groupby('user_id').count()\n",
    "    new_list = np.array(new_df.ix[user_id_set,'item_id']).tolist()\n",
    "    return new_list"
   ]
  },
  {
   "cell_type": "code",
   "execution_count": 64,
   "metadata": {},
   "outputs": [],
   "source": [
    "def test_user_id(df_0,df_1,user_id):\n",
    "    test_list_1 = np.array(df_1.ix[user_id]).tolist()\n",
    "    for day in range(1,31,1):\n",
    "        test_list_0 = get_user_counts(df_0,day)[0]\n",
    "        if test_list_0 == test_list_1[day-1]:\n",
    "            print(day,test_list_0,test_list_1[day-1],'sucess')\n",
    "        else:\n",
    "            print(day,test_list_0,test_list_1[day-1],'faiure')\n"
   ]
  },
  {
   "cell_type": "code",
   "execution_count": null,
   "metadata": {},
   "outputs": [],
   "source": [
    "def user_30days(df):\n",
    "    basic_days = collections.OrderedDict()\n",
    "    for i in range(1,31,1):\n",
    "        key = 'day' + str(i)\n",
    "        basic_days[key] = get_user_counts(df,i)\n",
    "    return basic_days"
   ]
  },
  {
   "cell_type": "code",
   "execution_count": null,
   "metadata": {},
   "outputs": [],
   "source": [
    "if __name__==\"__main__\":\n",
    "    # df = pd.read_csv(\"E:\\\\recys_projects\\\\dataset\\\\0_999_user_info.csv\")\n",
    "    df = pd.read_csv(\"/home/xuyayuan/recys_projects/dataset/0_999_user_info.csv\")\n",
    "    del df[\"Unnamed: 0\"]\n",
    "    df['time'] = pd.to_datetime(df['time'])"
   ]
  },
  {
   "cell_type": "code",
   "execution_count": null,
   "metadata": {},
   "outputs": [],
   "source": [
    "user_index = df['user_id'].unique().tolist()"
   ]
  },
  {
   "cell_type": "code",
   "execution_count": null,
   "metadata": {
    "scrolled": true
   },
   "outputs": [],
   "source": [
    "basic_days = user_30days(df)"
   ]
  },
  {
   "cell_type": "code",
   "execution_count": null,
   "metadata": {},
   "outputs": [],
   "source": [
    "test_days = test_counts(df,20)\n",
    "test_days.ix[[98047837],'item_id']"
   ]
  },
  {
   "cell_type": "code",
   "execution_count": 41,
   "metadata": {},
   "outputs": [],
   "source": [
    "pd_basic_days = pd.DataFrame(basic_days, index = user_index)"
   ]
  },
  {
   "cell_type": "code",
   "execution_count": 55,
   "metadata": {},
   "outputs": [
    {
     "data": {
      "text/plain": [
       "day1      27.0\n",
       "day2      13.0\n",
       "day3      10.0\n",
       "day4       2.0\n",
       "day5      33.0\n",
       "day6      48.0\n",
       "day7      18.0\n",
       "day8      86.0\n",
       "day9       NaN\n",
       "day10     56.0\n",
       "day11     30.0\n",
       "day12     31.0\n",
       "day13     18.0\n",
       "day14     60.0\n",
       "day15     27.0\n",
       "day16    193.0\n",
       "day17     94.0\n",
       "day18     30.0\n",
       "day19     95.0\n",
       "day20    159.0\n",
       "day21    197.0\n",
       "day22     15.0\n",
       "day23    104.0\n",
       "day24     40.0\n",
       "day25    138.0\n",
       "day26    162.0\n",
       "day27     22.0\n",
       "day28      4.0\n",
       "day29      2.0\n",
       "day30      5.0\n",
       "Name: 98047837, dtype: float64"
      ]
     },
     "execution_count": 55,
     "metadata": {},
     "output_type": "execute_result"
    }
   ],
   "source": [
    "pd_basic_days.ix[98047837]"
   ]
  },
  {
   "cell_type": "code",
   "execution_count": 65,
   "metadata": {},
   "outputs": [
    {
     "name": "stderr",
     "output_type": "stream",
     "text": [
      "/home/xuyayuan/myprojects/recys_venv/lib/python3.6/site-packages/ipykernel_launcher.py:11: DeprecationWarning: \n",
      ".ix is deprecated. Please use\n",
      ".loc for label based indexing or\n",
      ".iloc for positional indexing\n",
      "\n",
      "See the documentation here:\n",
      "http://pandas.pydata.org/pandas-docs/stable/indexing.html#ix-indexer-is-deprecated\n",
      "  # This is added back by InteractiveShellApp.init_path()\n",
      "/home/xuyayuan/myprojects/recys_venv/lib/python3.6/site-packages/ipykernel_launcher.py:10: UserWarning: Boolean Series key will be reindexed to match DataFrame index.\n",
      "  # Remove the CWD from sys.path while we load stuff.\n"
     ]
    },
    {
     "name": "stdout",
     "output_type": "stream",
     "text": [
      "1 27.0 27.0 sucess\n",
      "2 13.0 13.0 sucess\n",
      "3 10.0 10.0 sucess\n",
      "4 2.0 2.0 sucess\n",
      "5 33.0 33.0 sucess\n",
      "6 48.0 48.0 sucess\n",
      "7 18.0 18.0 sucess\n",
      "8 86.0 86.0 sucess\n",
      "9 nan nan faiure\n",
      "10 56.0 56.0 sucess\n",
      "11 30.0 30.0 sucess\n",
      "12 31.0 31.0 sucess\n"
     ]
    },
    {
     "name": "stderr",
     "output_type": "stream",
     "text": [
      "/home/xuyayuan/myprojects/recys_venv/lib/python3.6/site-packages/ipykernel_launcher.py:14: UserWarning: Boolean Series key will be reindexed to match DataFrame index.\n",
      "  \n",
      "/home/xuyayuan/myprojects/recys_venv/lib/python3.6/site-packages/ipykernel_launcher.py:15: DeprecationWarning: \n",
      ".ix is deprecated. Please use\n",
      ".loc for label based indexing or\n",
      ".iloc for positional indexing\n",
      "\n",
      "See the documentation here:\n",
      "http://pandas.pydata.org/pandas-docs/stable/indexing.html#ix-indexer-is-deprecated\n",
      "  from ipykernel import kernelapp as app\n",
      "/home/xuyayuan/myprojects/recys_venv/lib/python3.6/site-packages/ipykernel_launcher.py:17: UserWarning: Boolean Series key will be reindexed to match DataFrame index.\n"
     ]
    },
    {
     "name": "stdout",
     "output_type": "stream",
     "text": [
      "13 18.0 18.0 sucess\n",
      "14 60.0 60.0 sucess\n"
     ]
    },
    {
     "name": "stderr",
     "output_type": "stream",
     "text": [
      "/home/xuyayuan/myprojects/recys_venv/lib/python3.6/site-packages/ipykernel_launcher.py:18: DeprecationWarning: \n",
      ".ix is deprecated. Please use\n",
      ".loc for label based indexing or\n",
      ".iloc for positional indexing\n",
      "\n",
      "See the documentation here:\n",
      "http://pandas.pydata.org/pandas-docs/stable/indexing.html#ix-indexer-is-deprecated\n"
     ]
    },
    {
     "name": "stdout",
     "output_type": "stream",
     "text": [
      "15 27.0 27.0 sucess\n",
      "16 193.0 193.0 sucess\n",
      "17 94.0 94.0 sucess\n",
      "18 30.0 30.0 sucess\n",
      "19 95.0 95.0 sucess\n",
      "20 159.0 159.0 sucess\n",
      "21 197.0 197.0 sucess\n",
      "22 15.0 15.0 sucess\n",
      "23 104.0 104.0 sucess\n",
      "24 40.0 40.0 sucess\n",
      "25 138.0 138.0 sucess\n",
      "26 162.0 162.0 sucess\n",
      "27 22.0 22.0 sucess\n",
      "28 4.0 4.0 sucess\n",
      "29 2.0 2.0 sucess\n",
      "30 5.0 5.0 sucess\n"
     ]
    }
   ],
   "source": [
    "test_user_id(df,pd_basic_days,98047837)"
   ]
  },
  {
   "cell_type": "code",
   "execution_count": null,
   "metadata": {},
   "outputs": [],
   "source": []
  }
 ],
 "metadata": {
  "kernelspec": {
   "display_name": "Python 3",
   "language": "python",
   "name": "python3"
  },
  "language_info": {
   "codemirror_mode": {
    "name": "ipython",
    "version": 3
   },
   "file_extension": ".py",
   "mimetype": "text/x-python",
   "name": "python",
   "nbconvert_exporter": "python",
   "pygments_lexer": "ipython3",
   "version": "3.6.1"
  }
 },
 "nbformat": 4,
 "nbformat_minor": 2
}
