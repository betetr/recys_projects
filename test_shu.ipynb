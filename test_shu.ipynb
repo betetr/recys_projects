{
 "cells": [
  {
   "cell_type": "code",
   "execution_count": null,
   "metadata": {},
   "outputs": [],
   "source": [
    "# -*- coding: utf-8 -*-\n",
    "import pandas as pd\n",
    "import numpy as np\n",
    "from datetime import datetime\n",
    "import collections"
   ]
  },
  {
   "cell_type": "code",
   "execution_count": null,
   "metadata": {},
   "outputs": [],
   "source": [
    "def read_data(path):\n",
    "    df = pd.read_csv(path)\n",
    "    del df[\"Unnamed: 0\"]\n",
    "    df['time'] = pd.to_datetime(df['time'])\n",
    "    return df\n",
    "    "
   ]
  },
  {
   "cell_type": "code",
   "execution_count": null,
   "metadata": {},
   "outputs": [],
   "source": [
    "def get_user_counts(df,day):\n",
    "    user_id = df['user_id'].unique().tolist()\n",
    "    if day < 13:\n",
    "        new_df = df[df['time'] >= datetime(2014,11,day+17)][df['time'] < datetime(2014,11,day+18)].groupby('user_id').count()\n",
    "        return new_df\n",
    "    if day == 13:\n",
    "        new_df = df[df['time'] >= datetime(2014,11,day+17)][df['time'] < datetime(2014,12,1)].groupby('user_id').count()\n",
    "        return new_df\n",
    "    new_df = df[df['time'] >= datetime(2014,12,day-13)][df['time'] < datetime(2014,12,day-12)].groupby('user_id').count()\n",
    "    return new_df\n",
    "# get_user_counts(df,5)"
   ]
  },
  {
   "cell_type": "code",
   "execution_count": null,
   "metadata": {},
   "outputs": [],
   "source": [
    "def df_to_list(new_df,user_id):\n",
    "#     new_df['item_id']\n",
    "    arry = np.array(new_df.ix[user_id,'item_id'])\n",
    "    arry[np.isnan(arry)]=0\n",
    "    new_list = arry.astype(np.int).tolist()\n",
    "    return new_list"
   ]
  },
  {
   "cell_type": "code",
   "execution_count": null,
   "metadata": {},
   "outputs": [],
   "source": [
    "# all users 30 days basic count info\n",
    "def user_30days(df):\n",
    "    user_id = df['user_id'].unique().tolist()\n",
    "    # print(user_id)\n",
    "    basic_days = collections.OrderedDict()\n",
    "    for i in range(1,31,1):\n",
    "        key = 'day' + str(i)\n",
    "        basic_days[key] = df_to_list(get_user_counts(df,i),user_id)\n",
    "    basic_days=pd.DataFrame(basic_days, index = user_id)\n",
    "    return basic_days"
   ]
  },
  {
   "cell_type": "code",
   "execution_count": null,
   "metadata": {},
   "outputs": [],
   "source": [
    "def detail_info(df,user_id):\n",
    "    new_df = df.groupby([df['user_id'],df[\"behavior_type\"]]).count().unstack()\n",
    "    new_list = df_to_list(new_df,user_id)[0]\n",
    "    print(user_id,new_list)\n",
    "    return new_list"
   ]
  },
  {
   "cell_type": "code",
   "execution_count": null,
   "metadata": {},
   "outputs": [],
   "source": [
    "def test_user_id(df_0,df_1,user_id):\n",
    "    test_list_1 = np.array(df_1.ix[user_id]).tolist()[0]\n",
    "    for day in range(1,31,1):\n",
    "        test_list_0 = df_to_list(get_user_counts(df_0,day),user_id)[0]\n",
    "        if test_list_0 == test_list_1[day-1]:\n",
    "            print(day,test_list_0,test_list_1[day-1],'sucess')\n",
    "        else:\n",
    "            print(day,test_list_0,test_list_1[day-1],'faiure')\n",
    "# test_user_id(df,basic_days,[126505815])"
   ]
  },
  {
   "cell_type": "code",
   "execution_count": null,
   "metadata": {},
   "outputs": [],
   "source": [
    "if __name__==\"__main__\":\n",
    "    path = \"E:\\\\projects\\\\recys_projects\\\\dataset\\\\0_999_user_info.csv\"\n",
    "#     path = \"/home/xuyayuan/recys_projects/dataset/0_999_user_info.csv\"\n",
    "    df = read_data(path)"
   ]
  },
  {
   "cell_type": "code",
   "execution_count": null,
   "metadata": {
    "scrolled": true
   },
   "outputs": [],
   "source": [
    "basic_days = user_30days(df)"
   ]
  },
  {
   "cell_type": "code",
   "execution_count": null,
   "metadata": {},
   "outputs": [],
   "source": [
    "basic_days['day1']"
   ]
  },
  {
   "cell_type": "code",
   "execution_count": null,
   "metadata": {},
   "outputs": [],
   "source": [
    "df.groupby([df['user_id'],df[\"behavior_type\"]]).count().head(25)"
   ]
  },
  {
   "cell_type": "code",
   "execution_count": null,
   "metadata": {},
   "outputs": [],
   "source": [
    "new_list = detail_info(df,[764564])"
   ]
  }
 ],
 "metadata": {
  "kernelspec": {
   "display_name": "Python 3",
   "language": "python",
   "name": "python3"
  },
  "language_info": {
   "codemirror_mode": {
    "name": "ipython",
    "version": 3
   },
   "file_extension": ".py",
   "mimetype": "text/x-python",
   "name": "python",
   "nbconvert_exporter": "python",
   "pygments_lexer": "ipython3",
   "version": "3.6.1"
  }
 },
 "nbformat": 4,
 "nbformat_minor": 2
}
